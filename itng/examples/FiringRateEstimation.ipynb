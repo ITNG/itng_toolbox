{
 "cells": [
  {
   "cell_type": "markdown",
   "metadata": {},
   "source": [
    "# Firing Rate Estimation \n",
    "\n",
    "### Estimating the firing rate in two different method.\n",
    "-  Finding the optimum number of bins \n",
    "-  Finding optimum bandwidth for gaussian kernel density estimation\n",
    "\n",
    "### Reference: \n",
    "- Kernel bandwidth optimization in spike rate estimation\n",
    "- Hideaki Shimazaki & Shigeru Shinomoto \n",
    "\n",
    "- [Kernel Density Estimation](https://jakevdp.github.io/PythonDataScienceHandbook/05.13-kernel-density-estimation.html)\n",
    "    \n",
    "- [Kernel density estimation, bandwidth selection](https://en.wikipedia.org/wiki/Kernel_density_estimation#Bandwidth_selection)\n",
    "    \n"
   ]
  },
  {
   "cell_type": "code",
   "execution_count": 1,
   "metadata": {},
   "outputs": [],
   "source": [
    "from sklearn.neighbors import KernelDensity\n",
    "from sklearn.model_selection import LeaveOneOut\n",
    "from sklearn.model_selection import GridSearchCV\n",
    "import numpy as np\n",
    "import pylab as plt\n",
    "from os.path import join\n",
    "from itng.statistics import (sshist, optimal_bandwidth, optimal_num_bins)"
   ]
  },
  {
   "cell_type": "markdown",
   "metadata": {},
   "source": [
    "Reading spike rates:"
   ]
  },
  {
   "cell_type": "code",
   "execution_count": 2,
   "metadata": {},
   "outputs": [],
   "source": [
    "with open(join(\"data.txt\"), \"r\") as f:\n",
    "    lines = f.readlines()\n",
    "    spike_times = []\n",
    "    for line in lines:\n",
    "        line = [float(i) for i in line.split()]\n",
    "        spike_times.extend(line)\n",
    "\n",
    "spike_times = np.asarray(spike_times)"
   ]
  },
  {
   "cell_type": "code",
   "execution_count": 3,
   "metadata": {},
   "outputs": [
    {
     "name": "stdout",
     "output_type": "stream",
     "text": [
      "The optimum number of bins :  12\n"
     ]
    }
   ],
   "source": [
    "\n",
    "bins = optimal_num_bins(spike_times) \n",
    "print(\"The optimum number of bins : \", len(bins))"
   ]
  },
  {
   "cell_type": "code",
   "execution_count": 4,
   "metadata": {},
   "outputs": [
    {
     "data": {
      "image/png": "[encoded data removed]",
      "text/plain": [
       "<Figure size 432x288 with 1 Axes>"
      ]
     },
     "metadata": {
      "needs_background": "light"
     },
     "output_type": "display_data"
    }
   ],
   "source": [
    "fig, ax = plt.subplots(1, figsize=(6, 4))\n",
    "ax.set_xlabel('spike times (s)')\n",
    "ax.set_ylabel(\"density\")\n",
    "ax.hist(spike_times, bins=bins, alpha=0.5, density=True);"
   ]
  },
  {
   "cell_type": "code",
   "execution_count": 5,
   "metadata": {},
   "outputs": [],
   "source": [
    "# Kernel Density Estimation\n",
    "# Selecting the bandwidth via cross-validation"
   ]
  },
  {
   "cell_type": "code",
   "execution_count": 6,
   "metadata": {},
   "outputs": [
    {
     "name": "stdout",
     "output_type": "stream",
     "text": [
      "0.12618568830660204\n"
     ]
    }
   ],
   "source": [
    "bandwidth = optimal_bandwidth(spike_times)\n",
    "print(bandwidth)"
   ]
  },
  {
   "cell_type": "code",
   "execution_count": 10,
   "metadata": {},
   "outputs": [],
   "source": [
    "# the spikes need to be sorted\n",
    "spike_times_sorted = np.sort(spike_times)\n"
   ]
  },
  {
   "cell_type": "code",
   "execution_count": 11,
   "metadata": {},
   "outputs": [],
   "source": [
    "# instantiate and fit the KDE model\n",
    "kde = KernelDensity(bandwidth=bandwidth, kernel='gaussian')\n",
    "kde.fit(spike_times_sorted[:, None])\n",
    "\n",
    "# score_samples returns the log of the probability density\n",
    "logprob = kde.score_samples(spike_times_sorted[:, None])\n"
   ]
  },
  {
   "cell_type": "code",
   "execution_count": null,
   "metadata": {},
   "outputs": [],
   "source": [
    "# PLOT the results together"
   ]
  },
  {
   "cell_type": "code",
   "execution_count": 16,
   "metadata": {},
   "outputs": [
    {
     "data": {
      "image/png": "[encoded data removed]",
      "text/plain": [
       "<Figure size 432x288 with 1 Axes>"
      ]
     },
     "metadata": {
      "needs_background": "light"
     },
     "output_type": "display_data"
    }
   ],
   "source": [
    "fig, ax = plt.subplots(1, figsize=(6, 4))\n",
    "ax.set_xlabel('spike times (s)')\n",
    "ax.set_ylabel(\"density\")\n",
    "ax.hist(spike_times, bins=bins, alpha=0.3, density=True);\n",
    "\n",
    "\n",
    "ax.fill_between(spike_times_sorted, np.exp(logprob), \n",
    "                alpha=0.3, \n",
    "                color='gray')\n",
    "ax.plot(spike_times, np.exp(logprob), alpha=1, lw=2, color=\"k\")\n",
    "plt.show()"
   ]
  },
  {
   "cell_type": "code",
   "execution_count": null,
   "metadata": {},
   "outputs": [],
   "source": []
  }
 ],
 "metadata": {
  "kernelspec": {
   "display_name": "Python 3.6.9 64-bit",
   "language": "python",
   "name": "python36964bit3ec0dbbd46ae448585f9bbd63312a519"
  },
  "language_info": {
   "codemirror_mode": {
    "name": "ipython",
    "version": 3
   },
   "file_extension": ".py",
   "mimetype": "text/x-python",
   "name": "python",
   "nbconvert_exporter": "python",
   "pygments_lexer": "ipython3",
   "version": "3.6.9"
  }
 },
 "nbformat": 4,
 "nbformat_minor": 4
}
